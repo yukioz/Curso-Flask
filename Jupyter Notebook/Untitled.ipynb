{
 "cells": [
  {
   "cell_type": "code",
   "execution_count": 1,
   "id": "ee5caf55",
   "metadata": {},
   "outputs": [],
   "source": [
    "import json\n",
    "import requests"
   ]
  },
  {
   "cell_type": "markdown",
   "id": "f3072798",
   "metadata": {},
   "source": [
    "# Get /hoteis"
   ]
  },
  {
   "cell_type": "code",
   "execution_count": 2,
   "id": "4ab22456",
   "metadata": {},
   "outputs": [],
   "source": [
    "URL = 'http://127.0.0.1:5000'"
   ]
  },
  {
   "cell_type": "code",
   "execution_count": 4,
   "id": "dbc80397",
   "metadata": {},
   "outputs": [],
   "source": [
    "resposta_hoteis = requests.request('GET', URL + '/hoteis')"
   ]
  },
  {
   "cell_type": "code",
   "execution_count": 5,
   "id": "04037347",
   "metadata": {},
   "outputs": [
    {
     "data": {
      "text/plain": [
       "200"
      ]
     },
     "execution_count": 5,
     "metadata": {},
     "output_type": "execute_result"
    }
   ],
   "source": [
    "resposta_hoteis.status_code"
   ]
  },
  {
   "cell_type": "code",
   "execution_count": 8,
   "id": "a75f7808",
   "metadata": {},
   "outputs": [],
   "source": [
    "hoteis = resposta_hoteis.json()"
   ]
  },
  {
   "cell_type": "code",
   "execution_count": 10,
   "id": "ed030af1",
   "metadata": {},
   "outputs": [
    {
     "data": {
      "text/plain": [
       "{'hotel_id': 'delta',\n",
       " 'nome': 'Delta',\n",
       " 'estrelas': 4.1,\n",
       " 'diaria': 123.4,\n",
       " 'cidade': 'DF',\n",
       " 'site_id': 1}"
      ]
     },
     "execution_count": 10,
     "metadata": {},
     "output_type": "execute_result"
    }
   ],
   "source": [
    "hoteis['hoteis'][0]"
   ]
  },
  {
   "cell_type": "code",
   "execution_count": 11,
   "id": "dbef525d",
   "metadata": {},
   "outputs": [
    {
     "data": {
      "text/plain": [
       "1"
      ]
     },
     "execution_count": 11,
     "metadata": {},
     "output_type": "execute_result"
    }
   ],
   "source": [
    "len(hoteis['hoteis'])"
   ]
  },
  {
   "cell_type": "code",
   "execution_count": 12,
   "id": "4b3692a1",
   "metadata": {},
   "outputs": [],
   "source": [
    "lista_hoteis = hoteis['hoteis']"
   ]
  },
  {
   "cell_type": "code",
   "execution_count": 13,
   "id": "fedaf07a",
   "metadata": {},
   "outputs": [
    {
     "name": "stdout",
     "output_type": "stream",
     "text": [
      "Delta\n"
     ]
    }
   ],
   "source": [
    "for hotel in lista_hoteis:\n",
    "    print(hotel['nome'])"
   ]
  },
  {
   "cell_type": "markdown",
   "id": "3b648731",
   "metadata": {},
   "source": [
    "# Mercado livre API"
   ]
  },
  {
   "cell_type": "code",
   "execution_count": 14,
   "id": "7d9d0916",
   "metadata": {},
   "outputs": [],
   "source": [
    "ML_URL = 'https://api.mercadolibre.com/sites'"
   ]
  },
  {
   "cell_type": "code",
   "execution_count": 17,
   "id": "f5dfc7ae",
   "metadata": {},
   "outputs": [],
   "source": [
    "lista_sites = requests.request('GET', ML_URL)"
   ]
  },
  {
   "cell_type": "code",
   "execution_count": 18,
   "id": "dcacf79f",
   "metadata": {},
   "outputs": [
    {
     "data": {
      "text/plain": [
       "<Response [200]>"
      ]
     },
     "execution_count": 18,
     "metadata": {},
     "output_type": "execute_result"
    }
   ],
   "source": [
    "lista_sites"
   ]
  },
  {
   "cell_type": "code",
   "execution_count": 19,
   "id": "825c9ab3",
   "metadata": {},
   "outputs": [
    {
     "data": {
      "text/plain": [
       "[{'default_currency_id': 'CRC', 'id': 'MCR', 'name': 'Costa Rica'},\n",
       " {'default_currency_id': 'PAB', 'id': 'MPA', 'name': 'Panamá'},\n",
       " {'default_currency_id': 'DOP', 'id': 'MRD', 'name': 'Dominicana'},\n",
       " {'default_currency_id': 'CLP', 'id': 'MLC', 'name': 'Chile'},\n",
       " {'default_currency_id': 'ARS', 'id': 'MLA', 'name': 'Argentina'},\n",
       " {'default_currency_id': 'MXN', 'id': 'MLM', 'name': 'Mexico'},\n",
       " {'default_currency_id': 'NIO', 'id': 'MNI', 'name': 'Nicaragua'},\n",
       " {'default_currency_id': 'USD', 'id': 'MSV', 'name': 'El Salvador'},\n",
       " {'default_currency_id': 'VES', 'id': 'MLV', 'name': 'Venezuela'},\n",
       " {'default_currency_id': 'GTQ', 'id': 'MGT', 'name': 'Guatemala'},\n",
       " {'default_currency_id': 'PEN', 'id': 'MPE', 'name': 'Perú'},\n",
       " {'default_currency_id': 'PYG', 'id': 'MPY', 'name': 'Paraguay'},\n",
       " {'default_currency_id': 'COP', 'id': 'MCO', 'name': 'Colombia'},\n",
       " {'default_currency_id': 'UYU', 'id': 'MLU', 'name': 'Uruguay'},\n",
       " {'default_currency_id': 'USD', 'id': 'MEC', 'name': 'Ecuador'},\n",
       " {'default_currency_id': 'HNL', 'id': 'MHN', 'name': 'Honduras'},\n",
       " {'default_currency_id': 'BRL', 'id': 'MLB', 'name': 'Brasil'},\n",
       " {'default_currency_id': 'CUP', 'id': 'MCU', 'name': 'Cuba'},\n",
       " {'default_currency_id': 'BOB', 'id': 'MBO', 'name': 'Bolivia'}]"
      ]
     },
     "execution_count": 19,
     "metadata": {},
     "output_type": "execute_result"
    }
   ],
   "source": [
    "lista_sites.json()"
   ]
  },
  {
   "cell_type": "code",
   "execution_count": null,
   "id": "6187e32f",
   "metadata": {},
   "outputs": [],
   "source": []
  }
 ],
 "metadata": {
  "kernelspec": {
   "display_name": "Python 3 (ipykernel)",
   "language": "python",
   "name": "python3"
  },
  "language_info": {
   "codemirror_mode": {
    "name": "ipython",
    "version": 3
   },
   "file_extension": ".py",
   "mimetype": "text/x-python",
   "name": "python",
   "nbconvert_exporter": "python",
   "pygments_lexer": "ipython3",
   "version": "3.10.2"
  }
 },
 "nbformat": 4,
 "nbformat_minor": 5
}
